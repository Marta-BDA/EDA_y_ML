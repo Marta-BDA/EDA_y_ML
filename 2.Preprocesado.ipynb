{
 "cells": [
  {
   "cell_type": "code",
   "execution_count": 1,
   "metadata": {},
   "outputs": [],
   "source": [
    "\n",
    "import numpy as np\n",
    "import pandas as pd\n",
    "import sidetable as stb\n",
    "from sklearn.preprocessing import RobustScaler\n",
    "from pandas import get_dummies\n",
    "from sklearn.model_selection import train_test_split\n",
    "import imblearn\n",
    "from imblearn.over_sampling import SMOTE\n",
    "\n",
    "\n",
    "import matplotlib.pyplot as plt\n",
    "import seaborn as sns\n",
    "\n",
    "\n",
    "import warnings\n",
    "warnings.filterwarnings(\"ignore\")"
   ]
  },
  {
   "cell_type": "code",
   "execution_count": 2,
   "metadata": {},
   "outputs": [],
   "source": [
    "df=pd.read_csv('datos/df_global.csv', index_col=0)"
   ]
  },
  {
   "attachments": {},
   "cell_type": "markdown",
   "metadata": {},
   "source": [
    "## 1. Estandarizamos las numéricas:"
   ]
  },
  {
   "cell_type": "code",
   "execution_count": 3,
   "metadata": {},
   "outputs": [],
   "source": [
    "numericas = df.select_dtypes(include=np.number)"
   ]
  },
  {
   "cell_type": "code",
   "execution_count": 4,
   "metadata": {},
   "outputs": [
    {
     "data": {
      "text/html": [
       "<div>\n",
       "<style scoped>\n",
       "    .dataframe tbody tr th:only-of-type {\n",
       "        vertical-align: middle;\n",
       "    }\n",
       "\n",
       "    .dataframe tbody tr th {\n",
       "        vertical-align: top;\n",
       "    }\n",
       "\n",
       "    .dataframe thead th {\n",
       "        text-align: right;\n",
       "    }\n",
       "</style>\n",
       "<table border=\"1\" class=\"dataframe\">\n",
       "  <thead>\n",
       "    <tr style=\"text-align: right;\">\n",
       "      <th></th>\n",
       "      <th>Duration</th>\n",
       "      <th>Net Sales</th>\n",
       "      <th>Commision (in value)</th>\n",
       "      <th>Age</th>\n",
       "    </tr>\n",
       "  </thead>\n",
       "  <tbody>\n",
       "    <tr>\n",
       "      <th>21</th>\n",
       "      <td>12</td>\n",
       "      <td>46.15</td>\n",
       "      <td>11.54</td>\n",
       "      <td>44</td>\n",
       "    </tr>\n",
       "    <tr>\n",
       "      <th>22</th>\n",
       "      <td>7</td>\n",
       "      <td>17.55</td>\n",
       "      <td>4.39</td>\n",
       "      <td>25</td>\n",
       "    </tr>\n",
       "    <tr>\n",
       "      <th>23</th>\n",
       "      <td>12</td>\n",
       "      <td>94.00</td>\n",
       "      <td>23.50</td>\n",
       "      <td>34</td>\n",
       "    </tr>\n",
       "    <tr>\n",
       "      <th>26</th>\n",
       "      <td>29</td>\n",
       "      <td>9.90</td>\n",
       "      <td>5.94</td>\n",
       "      <td>33</td>\n",
       "    </tr>\n",
       "    <tr>\n",
       "      <th>27</th>\n",
       "      <td>28</td>\n",
       "      <td>9.90</td>\n",
       "      <td>5.94</td>\n",
       "      <td>33</td>\n",
       "    </tr>\n",
       "    <tr>\n",
       "      <th>...</th>\n",
       "      <td>...</td>\n",
       "      <td>...</td>\n",
       "      <td>...</td>\n",
       "      <td>...</td>\n",
       "    </tr>\n",
       "    <tr>\n",
       "      <th>63318</th>\n",
       "      <td>10</td>\n",
       "      <td>35.00</td>\n",
       "      <td>12.25</td>\n",
       "      <td>54</td>\n",
       "    </tr>\n",
       "    <tr>\n",
       "      <th>63319</th>\n",
       "      <td>10</td>\n",
       "      <td>35.00</td>\n",
       "      <td>12.25</td>\n",
       "      <td>51</td>\n",
       "    </tr>\n",
       "    <tr>\n",
       "      <th>63320</th>\n",
       "      <td>5</td>\n",
       "      <td>18.00</td>\n",
       "      <td>6.30</td>\n",
       "      <td>27</td>\n",
       "    </tr>\n",
       "    <tr>\n",
       "      <th>63323</th>\n",
       "      <td>2</td>\n",
       "      <td>18.00</td>\n",
       "      <td>6.30</td>\n",
       "      <td>57</td>\n",
       "    </tr>\n",
       "    <tr>\n",
       "      <th>63325</th>\n",
       "      <td>22</td>\n",
       "      <td>26.00</td>\n",
       "      <td>9.10</td>\n",
       "      <td>35</td>\n",
       "    </tr>\n",
       "  </tbody>\n",
       "</table>\n",
       "<p>27994 rows × 4 columns</p>\n",
       "</div>"
      ],
      "text/plain": [
       "       Duration  Net Sales  Commision (in value)  Age\n",
       "21           12      46.15                 11.54   44\n",
       "22            7      17.55                  4.39   25\n",
       "23           12      94.00                 23.50   34\n",
       "26           29       9.90                  5.94   33\n",
       "27           28       9.90                  5.94   33\n",
       "...         ...        ...                   ...  ...\n",
       "63318        10      35.00                 12.25   54\n",
       "63319        10      35.00                 12.25   51\n",
       "63320         5      18.00                  6.30   27\n",
       "63323         2      18.00                  6.30   57\n",
       "63325        22      26.00                  9.10   35\n",
       "\n",
       "[27994 rows x 4 columns]"
      ]
     },
     "execution_count": 4,
     "metadata": {},
     "output_type": "execute_result"
    }
   ],
   "source": [
    "numericas"
   ]
  },
  {
   "cell_type": "code",
   "execution_count": 5,
   "metadata": {},
   "outputs": [],
   "source": [
    "robust= RobustScaler()"
   ]
  },
  {
   "cell_type": "code",
   "execution_count": 6,
   "metadata": {},
   "outputs": [
    {
     "data": {
      "text/html": [
       "<style>#sk-container-id-1 {color: black;background-color: white;}#sk-container-id-1 pre{padding: 0;}#sk-container-id-1 div.sk-toggleable {background-color: white;}#sk-container-id-1 label.sk-toggleable__label {cursor: pointer;display: block;width: 100%;margin-bottom: 0;padding: 0.3em;box-sizing: border-box;text-align: center;}#sk-container-id-1 label.sk-toggleable__label-arrow:before {content: \"▸\";float: left;margin-right: 0.25em;color: #696969;}#sk-container-id-1 label.sk-toggleable__label-arrow:hover:before {color: black;}#sk-container-id-1 div.sk-estimator:hover label.sk-toggleable__label-arrow:before {color: black;}#sk-container-id-1 div.sk-toggleable__content {max-height: 0;max-width: 0;overflow: hidden;text-align: left;background-color: #f0f8ff;}#sk-container-id-1 div.sk-toggleable__content pre {margin: 0.2em;color: black;border-radius: 0.25em;background-color: #f0f8ff;}#sk-container-id-1 input.sk-toggleable__control:checked~div.sk-toggleable__content {max-height: 200px;max-width: 100%;overflow: auto;}#sk-container-id-1 input.sk-toggleable__control:checked~label.sk-toggleable__label-arrow:before {content: \"▾\";}#sk-container-id-1 div.sk-estimator input.sk-toggleable__control:checked~label.sk-toggleable__label {background-color: #d4ebff;}#sk-container-id-1 div.sk-label input.sk-toggleable__control:checked~label.sk-toggleable__label {background-color: #d4ebff;}#sk-container-id-1 input.sk-hidden--visually {border: 0;clip: rect(1px 1px 1px 1px);clip: rect(1px, 1px, 1px, 1px);height: 1px;margin: -1px;overflow: hidden;padding: 0;position: absolute;width: 1px;}#sk-container-id-1 div.sk-estimator {font-family: monospace;background-color: #f0f8ff;border: 1px dotted black;border-radius: 0.25em;box-sizing: border-box;margin-bottom: 0.5em;}#sk-container-id-1 div.sk-estimator:hover {background-color: #d4ebff;}#sk-container-id-1 div.sk-parallel-item::after {content: \"\";width: 100%;border-bottom: 1px solid gray;flex-grow: 1;}#sk-container-id-1 div.sk-label:hover label.sk-toggleable__label {background-color: #d4ebff;}#sk-container-id-1 div.sk-serial::before {content: \"\";position: absolute;border-left: 1px solid gray;box-sizing: border-box;top: 0;bottom: 0;left: 50%;z-index: 0;}#sk-container-id-1 div.sk-serial {display: flex;flex-direction: column;align-items: center;background-color: white;padding-right: 0.2em;padding-left: 0.2em;position: relative;}#sk-container-id-1 div.sk-item {position: relative;z-index: 1;}#sk-container-id-1 div.sk-parallel {display: flex;align-items: stretch;justify-content: center;background-color: white;position: relative;}#sk-container-id-1 div.sk-item::before, #sk-container-id-1 div.sk-parallel-item::before {content: \"\";position: absolute;border-left: 1px solid gray;box-sizing: border-box;top: 0;bottom: 0;left: 50%;z-index: -1;}#sk-container-id-1 div.sk-parallel-item {display: flex;flex-direction: column;z-index: 1;position: relative;background-color: white;}#sk-container-id-1 div.sk-parallel-item:first-child::after {align-self: flex-end;width: 50%;}#sk-container-id-1 div.sk-parallel-item:last-child::after {align-self: flex-start;width: 50%;}#sk-container-id-1 div.sk-parallel-item:only-child::after {width: 0;}#sk-container-id-1 div.sk-dashed-wrapped {border: 1px dashed gray;margin: 0 0.4em 0.5em 0.4em;box-sizing: border-box;padding-bottom: 0.4em;background-color: white;}#sk-container-id-1 div.sk-label label {font-family: monospace;font-weight: bold;display: inline-block;line-height: 1.2em;}#sk-container-id-1 div.sk-label-container {text-align: center;}#sk-container-id-1 div.sk-container {/* jupyter's `normalize.less` sets `[hidden] { display: none; }` but bootstrap.min.css set `[hidden] { display: none !important; }` so we also need the `!important` here to be able to override the default hidden behavior on the sphinx rendered scikit-learn.org. See: https://github.com/scikit-learn/scikit-learn/issues/21755 */display: inline-block !important;position: relative;}#sk-container-id-1 div.sk-text-repr-fallback {display: none;}</style><div id=\"sk-container-id-1\" class=\"sk-top-container\"><div class=\"sk-text-repr-fallback\"><pre>RobustScaler()</pre><b>In a Jupyter environment, please rerun this cell to show the HTML representation or trust the notebook. <br />On GitHub, the HTML representation is unable to render, please try loading this page with nbviewer.org.</b></div><div class=\"sk-container\" hidden><div class=\"sk-item\"><div class=\"sk-estimator sk-toggleable\"><input class=\"sk-toggleable__control sk-hidden--visually\" id=\"sk-estimator-id-1\" type=\"checkbox\" checked><label for=\"sk-estimator-id-1\" class=\"sk-toggleable__label sk-toggleable__label-arrow\">RobustScaler</label><div class=\"sk-toggleable__content\"><pre>RobustScaler()</pre></div></div></div></div></div>"
      ],
      "text/plain": [
       "RobustScaler()"
      ]
     },
     "execution_count": 6,
     "metadata": {},
     "output_type": "execute_result"
    }
   ],
   "source": [
    "robust.fit(numericas)"
   ]
  },
  {
   "cell_type": "code",
   "execution_count": 7,
   "metadata": {},
   "outputs": [],
   "source": [
    "X_robust= robust.transform(numericas)\n"
   ]
  },
  {
   "cell_type": "code",
   "execution_count": 8,
   "metadata": {},
   "outputs": [
    {
     "data": {
      "text/html": [
       "<div>\n",
       "<style scoped>\n",
       "    .dataframe tbody tr th:only-of-type {\n",
       "        vertical-align: middle;\n",
       "    }\n",
       "\n",
       "    .dataframe tbody tr th {\n",
       "        vertical-align: top;\n",
       "    }\n",
       "\n",
       "    .dataframe thead th {\n",
       "        text-align: right;\n",
       "    }\n",
       "</style>\n",
       "<table border=\"1\" class=\"dataframe\">\n",
       "  <thead>\n",
       "    <tr style=\"text-align: right;\">\n",
       "      <th></th>\n",
       "      <th>Duration_Robust</th>\n",
       "      <th>Net Sales_Robust</th>\n",
       "      <th>Commision (in value)_Robust</th>\n",
       "      <th>Age_Robust</th>\n",
       "    </tr>\n",
       "  </thead>\n",
       "  <tbody>\n",
       "    <tr>\n",
       "      <th>0</th>\n",
       "      <td>0.000000</td>\n",
       "      <td>0.924312</td>\n",
       "      <td>1.268132</td>\n",
       "      <td>0.727273</td>\n",
       "    </tr>\n",
       "    <tr>\n",
       "      <th>1</th>\n",
       "      <td>-0.416667</td>\n",
       "      <td>-0.387615</td>\n",
       "      <td>0.482418</td>\n",
       "      <td>-1.000000</td>\n",
       "    </tr>\n",
       "    <tr>\n",
       "      <th>2</th>\n",
       "      <td>0.000000</td>\n",
       "      <td>3.119266</td>\n",
       "      <td>2.582418</td>\n",
       "      <td>-0.181818</td>\n",
       "    </tr>\n",
       "    <tr>\n",
       "      <th>3</th>\n",
       "      <td>1.416667</td>\n",
       "      <td>-0.738532</td>\n",
       "      <td>0.652747</td>\n",
       "      <td>-0.272727</td>\n",
       "    </tr>\n",
       "    <tr>\n",
       "      <th>4</th>\n",
       "      <td>1.333333</td>\n",
       "      <td>-0.738532</td>\n",
       "      <td>0.652747</td>\n",
       "      <td>-0.272727</td>\n",
       "    </tr>\n",
       "    <tr>\n",
       "      <th>...</th>\n",
       "      <td>...</td>\n",
       "      <td>...</td>\n",
       "      <td>...</td>\n",
       "      <td>...</td>\n",
       "    </tr>\n",
       "    <tr>\n",
       "      <th>27989</th>\n",
       "      <td>-0.166667</td>\n",
       "      <td>0.412844</td>\n",
       "      <td>1.346154</td>\n",
       "      <td>1.636364</td>\n",
       "    </tr>\n",
       "    <tr>\n",
       "      <th>27990</th>\n",
       "      <td>-0.166667</td>\n",
       "      <td>0.412844</td>\n",
       "      <td>1.346154</td>\n",
       "      <td>1.363636</td>\n",
       "    </tr>\n",
       "    <tr>\n",
       "      <th>27991</th>\n",
       "      <td>-0.583333</td>\n",
       "      <td>-0.366972</td>\n",
       "      <td>0.692308</td>\n",
       "      <td>-0.818182</td>\n",
       "    </tr>\n",
       "    <tr>\n",
       "      <th>27992</th>\n",
       "      <td>-0.833333</td>\n",
       "      <td>-0.366972</td>\n",
       "      <td>0.692308</td>\n",
       "      <td>1.909091</td>\n",
       "    </tr>\n",
       "    <tr>\n",
       "      <th>27993</th>\n",
       "      <td>0.833333</td>\n",
       "      <td>0.000000</td>\n",
       "      <td>1.000000</td>\n",
       "      <td>-0.090909</td>\n",
       "    </tr>\n",
       "  </tbody>\n",
       "</table>\n",
       "<p>27994 rows × 4 columns</p>\n",
       "</div>"
      ],
      "text/plain": [
       "       Duration_Robust  Net Sales_Robust  Commision (in value)_Robust  \\\n",
       "0             0.000000          0.924312                     1.268132   \n",
       "1            -0.416667         -0.387615                     0.482418   \n",
       "2             0.000000          3.119266                     2.582418   \n",
       "3             1.416667         -0.738532                     0.652747   \n",
       "4             1.333333         -0.738532                     0.652747   \n",
       "...                ...               ...                          ...   \n",
       "27989        -0.166667          0.412844                     1.346154   \n",
       "27990        -0.166667          0.412844                     1.346154   \n",
       "27991        -0.583333         -0.366972                     0.692308   \n",
       "27992        -0.833333         -0.366972                     0.692308   \n",
       "27993         0.833333          0.000000                     1.000000   \n",
       "\n",
       "       Age_Robust  \n",
       "0        0.727273  \n",
       "1       -1.000000  \n",
       "2       -0.181818  \n",
       "3       -0.272727  \n",
       "4       -0.272727  \n",
       "...           ...  \n",
       "27989    1.636364  \n",
       "27990    1.363636  \n",
       "27991   -0.818182  \n",
       "27992    1.909091  \n",
       "27993   -0.090909  \n",
       "\n",
       "[27994 rows x 4 columns]"
      ]
     },
     "execution_count": 8,
     "metadata": {},
     "output_type": "execute_result"
    }
   ],
   "source": [
    "numericas_robust=pd.DataFrame (X_robust, columns=(numericas.columns)+'_Robust')\n",
    "numericas_robust"
   ]
  },
  {
   "cell_type": "code",
   "execution_count": 9,
   "metadata": {},
   "outputs": [],
   "source": [
    "df_global_estandarizado = pd.concat( [df,  numericas_robust], axis=1)"
   ]
  },
  {
   "cell_type": "code",
   "execution_count": 10,
   "metadata": {},
   "outputs": [
    {
     "data": {
      "text/html": [
       "<div>\n",
       "<style scoped>\n",
       "    .dataframe tbody tr th:only-of-type {\n",
       "        vertical-align: middle;\n",
       "    }\n",
       "\n",
       "    .dataframe tbody tr th {\n",
       "        vertical-align: top;\n",
       "    }\n",
       "\n",
       "    .dataframe thead th {\n",
       "        text-align: right;\n",
       "    }\n",
       "</style>\n",
       "<table border=\"1\" class=\"dataframe\">\n",
       "  <thead>\n",
       "    <tr style=\"text-align: right;\">\n",
       "      <th></th>\n",
       "      <th>Agency</th>\n",
       "      <th>Agency Type</th>\n",
       "      <th>Distribution Channel</th>\n",
       "      <th>Product Name</th>\n",
       "      <th>Claim</th>\n",
       "      <th>Duration</th>\n",
       "      <th>Destination</th>\n",
       "      <th>Net Sales</th>\n",
       "      <th>Commision (in value)</th>\n",
       "      <th>Age</th>\n",
       "      <th>Duration_Robust</th>\n",
       "      <th>Net Sales_Robust</th>\n",
       "      <th>Commision (in value)_Robust</th>\n",
       "      <th>Age_Robust</th>\n",
       "    </tr>\n",
       "  </thead>\n",
       "  <tbody>\n",
       "    <tr>\n",
       "      <th>21</th>\n",
       "      <td>C2B</td>\n",
       "      <td>Airlines</td>\n",
       "      <td>Online</td>\n",
       "      <td>Bronze Plan</td>\n",
       "      <td>No</td>\n",
       "      <td>12.0</td>\n",
       "      <td>SINGAPORE</td>\n",
       "      <td>46.15</td>\n",
       "      <td>11.54</td>\n",
       "      <td>44.0</td>\n",
       "      <td>0.583333</td>\n",
       "      <td>-0.275229</td>\n",
       "      <td>0.0</td>\n",
       "      <td>0.909091</td>\n",
       "    </tr>\n",
       "    <tr>\n",
       "      <th>22</th>\n",
       "      <td>C2B</td>\n",
       "      <td>Airlines</td>\n",
       "      <td>Online</td>\n",
       "      <td>Bronze Plan</td>\n",
       "      <td>No</td>\n",
       "      <td>7.0</td>\n",
       "      <td>SINGAPORE</td>\n",
       "      <td>17.55</td>\n",
       "      <td>4.39</td>\n",
       "      <td>25.0</td>\n",
       "      <td>0.500000</td>\n",
       "      <td>0.183486</td>\n",
       "      <td>0.0</td>\n",
       "      <td>0.000000</td>\n",
       "    </tr>\n",
       "  </tbody>\n",
       "</table>\n",
       "</div>"
      ],
      "text/plain": [
       "   Agency Agency Type Distribution Channel Product Name Claim  Duration  \\\n",
       "21    C2B    Airlines               Online  Bronze Plan    No      12.0   \n",
       "22    C2B    Airlines               Online  Bronze Plan    No       7.0   \n",
       "\n",
       "   Destination  Net Sales  Commision (in value)   Age  Duration_Robust  \\\n",
       "21   SINGAPORE      46.15                 11.54  44.0         0.583333   \n",
       "22   SINGAPORE      17.55                  4.39  25.0         0.500000   \n",
       "\n",
       "    Net Sales_Robust  Commision (in value)_Robust  Age_Robust  \n",
       "21         -0.275229                          0.0    0.909091  \n",
       "22          0.183486                          0.0    0.000000  "
      ]
     },
     "execution_count": 10,
     "metadata": {},
     "output_type": "execute_result"
    }
   ],
   "source": [
    "df_global_estandarizado.head(2)"
   ]
  },
  {
   "cell_type": "code",
   "execution_count": 11,
   "metadata": {},
   "outputs": [],
   "source": [
    "df_global_estandarizado.drop (numericas.columns, axis=1, inplace=True)"
   ]
  },
  {
   "cell_type": "code",
   "execution_count": 12,
   "metadata": {},
   "outputs": [
    {
     "data": {
      "text/html": [
       "<div>\n",
       "<style scoped>\n",
       "    .dataframe tbody tr th:only-of-type {\n",
       "        vertical-align: middle;\n",
       "    }\n",
       "\n",
       "    .dataframe tbody tr th {\n",
       "        vertical-align: top;\n",
       "    }\n",
       "\n",
       "    .dataframe thead th {\n",
       "        text-align: right;\n",
       "    }\n",
       "</style>\n",
       "<table border=\"1\" class=\"dataframe\">\n",
       "  <thead>\n",
       "    <tr style=\"text-align: right;\">\n",
       "      <th></th>\n",
       "      <th>Agency</th>\n",
       "      <th>Agency Type</th>\n",
       "      <th>Distribution Channel</th>\n",
       "      <th>Product Name</th>\n",
       "      <th>Claim</th>\n",
       "      <th>Destination</th>\n",
       "      <th>Duration_Robust</th>\n",
       "      <th>Net Sales_Robust</th>\n",
       "      <th>Commision (in value)_Robust</th>\n",
       "      <th>Age_Robust</th>\n",
       "    </tr>\n",
       "  </thead>\n",
       "  <tbody>\n",
       "    <tr>\n",
       "      <th>21</th>\n",
       "      <td>C2B</td>\n",
       "      <td>Airlines</td>\n",
       "      <td>Online</td>\n",
       "      <td>Bronze Plan</td>\n",
       "      <td>No</td>\n",
       "      <td>SINGAPORE</td>\n",
       "      <td>0.583333</td>\n",
       "      <td>-0.275229</td>\n",
       "      <td>0.0</td>\n",
       "      <td>0.909091</td>\n",
       "    </tr>\n",
       "    <tr>\n",
       "      <th>22</th>\n",
       "      <td>C2B</td>\n",
       "      <td>Airlines</td>\n",
       "      <td>Online</td>\n",
       "      <td>Bronze Plan</td>\n",
       "      <td>No</td>\n",
       "      <td>SINGAPORE</td>\n",
       "      <td>0.500000</td>\n",
       "      <td>0.183486</td>\n",
       "      <td>0.0</td>\n",
       "      <td>0.000000</td>\n",
       "    </tr>\n",
       "  </tbody>\n",
       "</table>\n",
       "</div>"
      ],
      "text/plain": [
       "   Agency Agency Type Distribution Channel Product Name Claim Destination  \\\n",
       "21    C2B    Airlines               Online  Bronze Plan    No   SINGAPORE   \n",
       "22    C2B    Airlines               Online  Bronze Plan    No   SINGAPORE   \n",
       "\n",
       "    Duration_Robust  Net Sales_Robust  Commision (in value)_Robust  Age_Robust  \n",
       "21         0.583333         -0.275229                          0.0    0.909091  \n",
       "22         0.500000          0.183486                          0.0    0.000000  "
      ]
     },
     "execution_count": 12,
     "metadata": {},
     "output_type": "execute_result"
    }
   ],
   "source": [
    "df_global_estandarizado.head(2)"
   ]
  },
  {
   "attachments": {},
   "cell_type": "markdown",
   "metadata": {},
   "source": [
    "## 2. Codificación de las variables categóricas:"
   ]
  },
  {
   "cell_type": "code",
   "execution_count": 13,
   "metadata": {},
   "outputs": [
    {
     "data": {
      "text/plain": [
       "Index(['Agency', 'Agency Type', 'Distribution Channel', 'Product Name',\n",
       "       'Claim', 'Destination'],\n",
       "      dtype='object')"
      ]
     },
     "execution_count": 13,
     "metadata": {},
     "output_type": "execute_result"
    }
   ],
   "source": [
    "categoricas= df.select_dtypes(include='O')\n",
    "categoricas.columns"
   ]
  },
  {
   "cell_type": "code",
   "execution_count": 14,
   "metadata": {},
   "outputs": [
    {
     "data": {
      "text/html": [
       "<div>\n",
       "<style scoped>\n",
       "    .dataframe tbody tr th:only-of-type {\n",
       "        vertical-align: middle;\n",
       "    }\n",
       "\n",
       "    .dataframe tbody tr th {\n",
       "        vertical-align: top;\n",
       "    }\n",
       "\n",
       "    .dataframe thead th {\n",
       "        text-align: right;\n",
       "    }\n",
       "</style>\n",
       "<table border=\"1\" class=\"dataframe\">\n",
       "  <thead>\n",
       "    <tr style=\"text-align: right;\">\n",
       "      <th></th>\n",
       "      <th>Agency</th>\n",
       "      <th>Agency Type</th>\n",
       "      <th>Distribution Channel</th>\n",
       "      <th>Product Name</th>\n",
       "      <th>Claim</th>\n",
       "      <th>Destination</th>\n",
       "    </tr>\n",
       "  </thead>\n",
       "  <tbody>\n",
       "    <tr>\n",
       "      <th>21</th>\n",
       "      <td>C2B</td>\n",
       "      <td>Airlines</td>\n",
       "      <td>Online</td>\n",
       "      <td>Bronze Plan</td>\n",
       "      <td>No</td>\n",
       "      <td>SINGAPORE</td>\n",
       "    </tr>\n",
       "  </tbody>\n",
       "</table>\n",
       "</div>"
      ],
      "text/plain": [
       "   Agency Agency Type Distribution Channel Product Name Claim Destination\n",
       "21    C2B    Airlines               Online  Bronze Plan    No   SINGAPORE"
      ]
     },
     "execution_count": 14,
     "metadata": {},
     "output_type": "execute_result"
    }
   ],
   "source": [
    "categoricas.head(1)"
   ]
  },
  {
   "attachments": {},
   "cell_type": "markdown",
   "metadata": {},
   "source": [
    "##### Variable: **Product Name**. \n",
    "A priori, parece que esta variable no debería tener orden pero se explora mejor."
   ]
  },
  {
   "cell_type": "code",
   "execution_count": 15,
   "metadata": {},
   "outputs": [
    {
     "data": {
      "text/plain": [
       "Cancellation Plan                      7854\n",
       "2 way Comprehensive Plan               5431\n",
       "Rental Vehicle Excess Insurance        3714\n",
       "Basic Plan                             3027\n",
       "Bronze Plan                            2722\n",
       "1 way Comprehensive Plan               1613\n",
       "Silver Plan                            1504\n",
       "Value Plan                             1043\n",
       "Ticket Protector                        314\n",
       "Gold Plan                               235\n",
       "24 Protect                              153\n",
       "Single Trip Travel Protect Gold         144\n",
       "Single Trip Travel Protect Silver       121\n",
       "Premier Plan                             66\n",
       "Single Trip Travel Protect Platinum      53\n",
       "Name: Product Name, dtype: int64"
      ]
     },
     "execution_count": 15,
     "metadata": {},
     "output_type": "execute_result"
    }
   ],
   "source": [
    "df['Product Name'].value_counts()"
   ]
  },
  {
   "cell_type": "code",
   "execution_count": 16,
   "metadata": {},
   "outputs": [
    {
     "data": {
      "text/plain": [
       "15"
      ]
     },
     "execution_count": 16,
     "metadata": {},
     "output_type": "execute_result"
    }
   ],
   "source": [
    "len(df['Product Name'].unique())"
   ]
  },
  {
   "cell_type": "code",
   "execution_count": 17,
   "metadata": {},
   "outputs": [],
   "source": [
    "producto = df.stb.freq (['Product Name'], thresh=80 )"
   ]
  },
  {
   "cell_type": "code",
   "execution_count": 18,
   "metadata": {},
   "outputs": [
    {
     "data": {
      "text/html": [
       "<div>\n",
       "<style scoped>\n",
       "    .dataframe tbody tr th:only-of-type {\n",
       "        vertical-align: middle;\n",
       "    }\n",
       "\n",
       "    .dataframe tbody tr th {\n",
       "        vertical-align: top;\n",
       "    }\n",
       "\n",
       "    .dataframe thead th {\n",
       "        text-align: right;\n",
       "    }\n",
       "</style>\n",
       "<table border=\"1\" class=\"dataframe\">\n",
       "  <thead>\n",
       "    <tr style=\"text-align: right;\">\n",
       "      <th></th>\n",
       "      <th>Product Name</th>\n",
       "      <th>count</th>\n",
       "      <th>percent</th>\n",
       "      <th>cumulative_count</th>\n",
       "      <th>cumulative_percent</th>\n",
       "    </tr>\n",
       "  </thead>\n",
       "  <tbody>\n",
       "    <tr>\n",
       "      <th>0</th>\n",
       "      <td>Cancellation Plan</td>\n",
       "      <td>7854</td>\n",
       "      <td>28.056012</td>\n",
       "      <td>7854</td>\n",
       "      <td>28.056012</td>\n",
       "    </tr>\n",
       "    <tr>\n",
       "      <th>1</th>\n",
       "      <td>2 way Comprehensive Plan</td>\n",
       "      <td>5431</td>\n",
       "      <td>19.400586</td>\n",
       "      <td>13285</td>\n",
       "      <td>47.456598</td>\n",
       "    </tr>\n",
       "    <tr>\n",
       "      <th>2</th>\n",
       "      <td>Rental Vehicle Excess Insurance</td>\n",
       "      <td>3714</td>\n",
       "      <td>13.267129</td>\n",
       "      <td>16999</td>\n",
       "      <td>60.723727</td>\n",
       "    </tr>\n",
       "    <tr>\n",
       "      <th>3</th>\n",
       "      <td>Basic Plan</td>\n",
       "      <td>3027</td>\n",
       "      <td>10.813031</td>\n",
       "      <td>20026</td>\n",
       "      <td>71.536758</td>\n",
       "    </tr>\n",
       "    <tr>\n",
       "      <th>4</th>\n",
       "      <td>others</td>\n",
       "      <td>7968</td>\n",
       "      <td>28.463242</td>\n",
       "      <td>27994</td>\n",
       "      <td>100.000000</td>\n",
       "    </tr>\n",
       "  </tbody>\n",
       "</table>\n",
       "</div>"
      ],
      "text/plain": [
       "                      Product Name  count    percent  cumulative_count  \\\n",
       "0                Cancellation Plan   7854  28.056012              7854   \n",
       "1         2 way Comprehensive Plan   5431  19.400586             13285   \n",
       "2  Rental Vehicle Excess Insurance   3714  13.267129             16999   \n",
       "3                       Basic Plan   3027  10.813031             20026   \n",
       "4                           others   7968  28.463242             27994   \n",
       "\n",
       "   cumulative_percent  \n",
       "0           28.056012  \n",
       "1           47.456598  \n",
       "2           60.723727  \n",
       "3           71.536758  \n",
       "4          100.000000  "
      ]
     },
     "execution_count": 18,
     "metadata": {},
     "output_type": "execute_result"
    }
   ],
   "source": [
    "producto"
   ]
  },
  {
   "attachments": {},
   "cell_type": "markdown",
   "metadata": {},
   "source": [
    "No se le puede dar orden pero al codificarla se generarían 15 columnas adicionales. Son muchas por lo que en una tabla de fercuencias se comprueba que la mayoría de los registros se concentran en 5 tipos de seguros. Lo más operativo para hacer este ejercicio es agrupar el resto bajo la categoria 'otros_productos'."
   ]
  },
  {
   "cell_type": "code",
   "execution_count": 19,
   "metadata": {},
   "outputs": [],
   "source": [
    "lista_producto= (producto['Product Name']).to_list()"
   ]
  },
  {
   "cell_type": "code",
   "execution_count": 20,
   "metadata": {},
   "outputs": [],
   "source": [
    "df['Product Name'] = df['Product Name'].apply(lambda x: 'otros_productos' if x not in lista_producto else x)"
   ]
  },
  {
   "cell_type": "code",
   "execution_count": 21,
   "metadata": {},
   "outputs": [
    {
     "data": {
      "text/plain": [
       "array(['otros_productos', 'Rental Vehicle Excess Insurance',\n",
       "       '2 way Comprehensive Plan', 'Cancellation Plan', 'Basic Plan'],\n",
       "      dtype=object)"
      ]
     },
     "execution_count": 21,
     "metadata": {},
     "output_type": "execute_result"
    }
   ],
   "source": [
    "df['Product Name'].unique()"
   ]
  },
  {
   "attachments": {},
   "cell_type": "markdown",
   "metadata": {},
   "source": [
    "Codificación:\n"
   ]
  },
  {
   "cell_type": "code",
   "execution_count": 22,
   "metadata": {},
   "outputs": [],
   "source": [
    "producto_dummies=pd.get_dummies(df['Product Name'], prefix_sep = \"_\", prefix = \"product\", dtype = int)"
   ]
  },
  {
   "cell_type": "code",
   "execution_count": 23,
   "metadata": {},
   "outputs": [],
   "source": [
    "df_producto_dummies = pd.concat([df, producto_dummies], axis = 1)"
   ]
  },
  {
   "cell_type": "code",
   "execution_count": 24,
   "metadata": {},
   "outputs": [],
   "source": [
    "df_producto_dummies.drop(['Product Name'], axis=1, inplace=True)"
   ]
  },
  {
   "attachments": {},
   "cell_type": "markdown",
   "metadata": {},
   "source": [
    "##### Variable: **Agency**. \n",
    "En teoria, tampoco debería tener orden. Lo vemos."
   ]
  },
  {
   "cell_type": "code",
   "execution_count": 25,
   "metadata": {},
   "outputs": [
    {
     "data": {
      "text/plain": [
       "EPX    14898\n",
       "C2B     4461\n",
       "CWT     3714\n",
       "JZI     3488\n",
       "RAB      453\n",
       "LWC      318\n",
       "SSI      314\n",
       "ART      168\n",
       "KML      157\n",
       "ADM       23\n",
       "Name: Agency, dtype: int64"
      ]
     },
     "execution_count": 25,
     "metadata": {},
     "output_type": "execute_result"
    }
   ],
   "source": [
    "df['Agency'].value_counts()"
   ]
  },
  {
   "cell_type": "code",
   "execution_count": 26,
   "metadata": {},
   "outputs": [],
   "source": [
    "#abrimos el df en el que se ven solo los reclamados\n",
    "df_claim= pd.read_csv('datos/df_claim.csv', index_col=0)"
   ]
  },
  {
   "cell_type": "code",
   "execution_count": 27,
   "metadata": {},
   "outputs": [
    {
     "data": {
      "text/plain": [
       "C2B    239\n",
       "EPX     71\n",
       "CWT     41\n",
       "JZI     15\n",
       "LWC     13\n",
       "KML      6\n",
       "SSI      2\n",
       "CCR      2\n",
       "RAB      1\n",
       "TST      1\n",
       "Name: Agency, dtype: int64"
      ]
     },
     "execution_count": 27,
     "metadata": {},
     "output_type": "execute_result"
    }
   ],
   "source": [
    "df_claim['Agency'].value_counts()"
   ]
  },
  {
   "cell_type": "code",
   "execution_count": 28,
   "metadata": {},
   "outputs": [
    {
     "data": {
      "image/png": "[encoded data removed]",
      "text/plain": [
       "<Figure size 500x500 with 1 Axes>"
      ]
     },
     "metadata": {},
     "output_type": "display_data"
    }
   ],
   "source": [
    "plt.figure (figsize= (5, 5))\n",
    "sns.countplot (data=df_claim, x='Agency')\n",
    "plt.xticks( rotation= 45);"
   ]
  },
  {
   "attachments": {},
   "cell_type": "markdown",
   "metadata": {},
   "source": [
    " Tras la exploración, se ve que hay una agencia (la segunda en ventas) que es la que más reclamaciones tiene. Llama la atención, quizás pueda tratarse de una mala práctica en la venta o debido al tipo de seguro que vende o incluso a un fraude. Sin embargo, por el momento no se le va a dar orden, ya que no podría responder a ningún criterio objetivo ni subjetivo por el que ordenarlo. "
   ]
  },
  {
   "attachments": {},
   "cell_type": "markdown",
   "metadata": {},
   "source": [
    "Se sigue el mismo proceso que se hizo en la variable anterior. Se categoriza bajo la etiqueta 'otras_agencias', aquellas agencias minoritarias (el 2% del total) con el fin de no generar tantas columnas."
   ]
  },
  {
   "cell_type": "code",
   "execution_count": 29,
   "metadata": {},
   "outputs": [],
   "source": [
    "agencias  = df.stb.freq (['Agency'], thresh=98)"
   ]
  },
  {
   "cell_type": "code",
   "execution_count": 30,
   "metadata": {},
   "outputs": [],
   "source": [
    "lista_agencias= (agencias['Agency']).to_list()"
   ]
  },
  {
   "cell_type": "code",
   "execution_count": 31,
   "metadata": {},
   "outputs": [],
   "source": [
    "df_producto_dummies['Agency'] = df_producto_dummies['Agency'].apply(lambda x: 'otras_agencias' if x not in lista_agencias else x)"
   ]
  },
  {
   "cell_type": "code",
   "execution_count": 32,
   "metadata": {},
   "outputs": [
    {
     "data": {
      "text/plain": [
       "array(['C2B', 'CWT', 'EPX', 'RAB', 'otras_agencias', 'JZI', 'LWC'],\n",
       "      dtype=object)"
      ]
     },
     "execution_count": 32,
     "metadata": {},
     "output_type": "execute_result"
    }
   ],
   "source": [
    "df_producto_dummies['Agency'].unique()"
   ]
  },
  {
   "attachments": {},
   "cell_type": "markdown",
   "metadata": {},
   "source": [
    "Se codifica:"
   ]
  },
  {
   "cell_type": "code",
   "execution_count": 33,
   "metadata": {},
   "outputs": [],
   "source": [
    "producto_agencia_dummies = pd.get_dummies(df_producto_dummies['Agency'], prefix_sep = \"_\", prefix = \"agencia\", dtype = int)"
   ]
  },
  {
   "cell_type": "code",
   "execution_count": 34,
   "metadata": {},
   "outputs": [],
   "source": [
    "df_producto_agencia_dummies = pd.concat([df_producto_dummies, producto_agencia_dummies], axis = 1)"
   ]
  },
  {
   "cell_type": "code",
   "execution_count": 35,
   "metadata": {},
   "outputs": [],
   "source": [
    "df_producto_agencia_dummies.drop( ['Agency'], axis=1, inplace=True)"
   ]
  },
  {
   "attachments": {},
   "cell_type": "markdown",
   "metadata": {},
   "source": [
    "##### Variable: **Distribucion Channel**\n",
    "Se borra esta columna, ya que solo hay un valor para ella. Todas las ventas son online por lo que no aporta nada."
   ]
  },
  {
   "cell_type": "code",
   "execution_count": 36,
   "metadata": {},
   "outputs": [],
   "source": [
    "df_producto_agencia_dummies.drop (['Distribution Channel'], axis=1, inplace=True)"
   ]
  },
  {
   "attachments": {},
   "cell_type": "markdown",
   "metadata": {},
   "source": [
    "##### Variable: **Destination**. \n",
    "En principio no tiene orden. "
   ]
  },
  {
   "cell_type": "code",
   "execution_count": 37,
   "metadata": {},
   "outputs": [
    {
     "data": {
      "text/plain": [
       "125"
      ]
     },
     "execution_count": 37,
     "metadata": {},
     "output_type": "execute_result"
    }
   ],
   "source": [
    "len(df_producto_agencia_dummies['Destination'].unique())"
   ]
  },
  {
   "attachments": {},
   "cell_type": "markdown",
   "metadata": {},
   "source": [
    "Si la se codifica tal y como está, generaría 125 columnas adicionales. Se categoriza de nuevo. Se eliminan los destinos minoritarios, de manera que solo quedan los que suponen un 80% del total de los registros. Y el resto queda en una misma categría llamada 'otros_destinos'."
   ]
  },
  {
   "cell_type": "code",
   "execution_count": 38,
   "metadata": {},
   "outputs": [],
   "source": [
    "destinos = df_producto_agencia_dummies.stb.freq (['Destination'], thresh=80 )"
   ]
  },
  {
   "cell_type": "code",
   "execution_count": 39,
   "metadata": {},
   "outputs": [],
   "source": [
    "lista_paises = (destinos['Destination']).to_list()"
   ]
  },
  {
   "cell_type": "code",
   "execution_count": 40,
   "metadata": {},
   "outputs": [],
   "source": [
    "df_producto_agencia_dummies['Destination'] = df_producto_agencia_dummies['Destination'].apply(lambda x: 'otros' if x not in lista_paises else x)\n"
   ]
  },
  {
   "cell_type": "code",
   "execution_count": 41,
   "metadata": {},
   "outputs": [
    {
     "data": {
      "text/plain": [
       "array(['SINGAPORE', 'UNITED STATES', 'otros', 'AUSTRALIA', 'INDONESIA',\n",
       "       'MALAYSIA', 'THAILAND', 'CHINA', 'VIET NAM', 'PHILIPPINES',\n",
       "       'HONG KONG', 'JAPAN'], dtype=object)"
      ]
     },
     "execution_count": 41,
     "metadata": {},
     "output_type": "execute_result"
    }
   ],
   "source": [
    "df_producto_agencia_dummies['Destination'].unique()"
   ]
  },
  {
   "cell_type": "code",
   "execution_count": 42,
   "metadata": {},
   "outputs": [],
   "source": [
    "dummies_destinos=pd.get_dummies(df_producto_agencia_dummies['Destination'], prefix_sep = \"_\", prefix = \"destination\", dtype = int)\n"
   ]
  },
  {
   "cell_type": "code",
   "execution_count": 43,
   "metadata": {},
   "outputs": [],
   "source": [
    "df_producto_agencia_destino_dummies = pd.concat([df_producto_agencia_dummies, dummies_destinos], axis = 1)\n"
   ]
  },
  {
   "cell_type": "code",
   "execution_count": 44,
   "metadata": {},
   "outputs": [],
   "source": [
    "df_producto_agencia_destino_dummies.drop(['Destination'], inplace=True, axis=1)"
   ]
  },
  {
   "attachments": {},
   "cell_type": "markdown",
   "metadata": {},
   "source": [
    "##### Variable: **Agency Type**. \n",
    "En principio no tiene orden. "
   ]
  },
  {
   "cell_type": "code",
   "execution_count": 45,
   "metadata": {},
   "outputs": [
    {
     "data": {
      "text/plain": [
       "array(['Airlines', 'Travel Agency'], dtype=object)"
      ]
     },
     "execution_count": 45,
     "metadata": {},
     "output_type": "execute_result"
    }
   ],
   "source": [
    "df_producto_agencia_destino_dummies['Agency Type'].unique()"
   ]
  },
  {
   "cell_type": "code",
   "execution_count": 46,
   "metadata": {},
   "outputs": [
    {
     "data": {
      "image/png": "[encoded data removed]",
      "text/plain": [
       "<Figure size 640x480 with 1 Axes>"
      ]
     },
     "metadata": {},
     "output_type": "display_data"
    }
   ],
   "source": [
    "sns.countplot(x='Agency Type' , data= df_claim);"
   ]
  },
  {
   "attachments": {},
   "cell_type": "markdown",
   "metadata": {},
   "source": [
    "Vemos que hay más reclamaciones a las aerolineas que a las Agencias. Si recordamos, se ha eliminado una columna que se refería al canal de ventas, ya que la gran mayoria de las reclamaciones procedían de la venta online. Por lo tanto, tiene sentido que la mayoría de las reclamaciones sean a Aerolineas, ya que son las que venden exclusivamente online, mientras que las Agencias pueden vender por los dos canales. En conclusión, parece que tiene orden ya que es más probable que se reclame un billete de avion (vendido por aerolinea) que un viaje completo (vendido por agencia)."
   ]
  },
  {
   "attachments": {},
   "cell_type": "markdown",
   "metadata": {},
   "source": [
    "Se codifica mediante mapeo."
   ]
  },
  {
   "cell_type": "code",
   "execution_count": 47,
   "metadata": {},
   "outputs": [
    {
     "data": {
      "text/plain": [
       "array(['Airlines', 'Travel Agency'], dtype=object)"
      ]
     },
     "execution_count": 47,
     "metadata": {},
     "output_type": "execute_result"
    }
   ],
   "source": [
    "df_producto_agencia_destino_dummies['Agency Type'].unique()"
   ]
  },
  {
   "cell_type": "code",
   "execution_count": 48,
   "metadata": {},
   "outputs": [],
   "source": [
    "mapa= {'Travel Agency':0, 'Airlines':1 }"
   ]
  },
  {
   "cell_type": "code",
   "execution_count": 49,
   "metadata": {},
   "outputs": [],
   "source": [
    "df_producto_agencia_destino_dummies['Agency Type']= df_producto_agencia_destino_dummies['Agency Type'].map(mapa)"
   ]
  },
  {
   "cell_type": "code",
   "execution_count": 50,
   "metadata": {},
   "outputs": [
    {
     "data": {
      "text/plain": [
       "array([1, 0], dtype=int64)"
      ]
     },
     "execution_count": 50,
     "metadata": {},
     "output_type": "execute_result"
    }
   ],
   "source": [
    "df_producto_agencia_destino_dummies['Agency Type'].unique()"
   ]
  },
  {
   "attachments": {},
   "cell_type": "markdown",
   "metadata": {},
   "source": [
    "#### Variable respuesta: **Claim**"
   ]
  },
  {
   "attachments": {},
   "cell_type": "markdown",
   "metadata": {},
   "source": [
    "Primero se renombra nuestro df para que sea más sencillo."
   ]
  },
  {
   "cell_type": "code",
   "execution_count": 51,
   "metadata": {},
   "outputs": [],
   "source": [
    "df_gral_dumi = df_producto_agencia_destino_dummies.copy()"
   ]
  },
  {
   "cell_type": "code",
   "execution_count": 52,
   "metadata": {},
   "outputs": [
    {
     "data": {
      "text/plain": [
       "No     27608\n",
       "Yes      386\n",
       "Name: Claim, dtype: int64"
      ]
     },
     "execution_count": 52,
     "metadata": {},
     "output_type": "execute_result"
    }
   ],
   "source": [
    "df_gral_dumi['Claim'].value_counts()"
   ]
  },
  {
   "attachments": {},
   "cell_type": "markdown",
   "metadata": {},
   "source": [
    "Se codifica con map porque esta variable sí tiene orden."
   ]
  },
  {
   "cell_type": "code",
   "execution_count": 53,
   "metadata": {},
   "outputs": [],
   "source": [
    "mapa1= {'No':0, 'Yes':1 }"
   ]
  },
  {
   "cell_type": "code",
   "execution_count": 54,
   "metadata": {},
   "outputs": [],
   "source": [
    "df_gral_dumi['Claim']= df_gral_dumi['Claim'].map(mapa1)"
   ]
  },
  {
   "cell_type": "code",
   "execution_count": 55,
   "metadata": {},
   "outputs": [
    {
     "data": {
      "text/plain": [
       "array([0, 1], dtype=int64)"
      ]
     },
     "execution_count": 55,
     "metadata": {},
     "output_type": "execute_result"
    }
   ],
   "source": [
    "df_gral_dumi['Claim'].unique()"
   ]
  },
  {
   "cell_type": "code",
   "execution_count": 56,
   "metadata": {},
   "outputs": [
    {
     "data": {
      "text/html": [
       "<div>\n",
       "<style scoped>\n",
       "    .dataframe tbody tr th:only-of-type {\n",
       "        vertical-align: middle;\n",
       "    }\n",
       "\n",
       "    .dataframe tbody tr th {\n",
       "        vertical-align: top;\n",
       "    }\n",
       "\n",
       "    .dataframe thead th {\n",
       "        text-align: right;\n",
       "    }\n",
       "</style>\n",
       "<table border=\"1\" class=\"dataframe\">\n",
       "  <thead>\n",
       "    <tr style=\"text-align: right;\">\n",
       "      <th></th>\n",
       "      <th>Agency Type</th>\n",
       "      <th>Claim</th>\n",
       "      <th>Duration</th>\n",
       "      <th>Net Sales</th>\n",
       "      <th>Commision (in value)</th>\n",
       "      <th>Age</th>\n",
       "      <th>product_2 way Comprehensive Plan</th>\n",
       "      <th>product_Basic Plan</th>\n",
       "      <th>product_Cancellation Plan</th>\n",
       "      <th>product_Rental Vehicle Excess Insurance</th>\n",
       "      <th>...</th>\n",
       "      <th>destination_HONG KONG</th>\n",
       "      <th>destination_INDONESIA</th>\n",
       "      <th>destination_JAPAN</th>\n",
       "      <th>destination_MALAYSIA</th>\n",
       "      <th>destination_PHILIPPINES</th>\n",
       "      <th>destination_SINGAPORE</th>\n",
       "      <th>destination_THAILAND</th>\n",
       "      <th>destination_UNITED STATES</th>\n",
       "      <th>destination_VIET NAM</th>\n",
       "      <th>destination_otros</th>\n",
       "    </tr>\n",
       "  </thead>\n",
       "  <tbody>\n",
       "    <tr>\n",
       "      <th>21</th>\n",
       "      <td>1</td>\n",
       "      <td>0</td>\n",
       "      <td>12</td>\n",
       "      <td>46.15</td>\n",
       "      <td>11.54</td>\n",
       "      <td>44</td>\n",
       "      <td>0</td>\n",
       "      <td>0</td>\n",
       "      <td>0</td>\n",
       "      <td>0</td>\n",
       "      <td>...</td>\n",
       "      <td>0</td>\n",
       "      <td>0</td>\n",
       "      <td>0</td>\n",
       "      <td>0</td>\n",
       "      <td>0</td>\n",
       "      <td>1</td>\n",
       "      <td>0</td>\n",
       "      <td>0</td>\n",
       "      <td>0</td>\n",
       "      <td>0</td>\n",
       "    </tr>\n",
       "    <tr>\n",
       "      <th>22</th>\n",
       "      <td>1</td>\n",
       "      <td>0</td>\n",
       "      <td>7</td>\n",
       "      <td>17.55</td>\n",
       "      <td>4.39</td>\n",
       "      <td>25</td>\n",
       "      <td>0</td>\n",
       "      <td>0</td>\n",
       "      <td>0</td>\n",
       "      <td>0</td>\n",
       "      <td>...</td>\n",
       "      <td>0</td>\n",
       "      <td>0</td>\n",
       "      <td>0</td>\n",
       "      <td>0</td>\n",
       "      <td>0</td>\n",
       "      <td>1</td>\n",
       "      <td>0</td>\n",
       "      <td>0</td>\n",
       "      <td>0</td>\n",
       "      <td>0</td>\n",
       "    </tr>\n",
       "  </tbody>\n",
       "</table>\n",
       "<p>2 rows × 30 columns</p>\n",
       "</div>"
      ],
      "text/plain": [
       "    Agency Type  Claim  Duration  Net Sales  Commision (in value)  Age  \\\n",
       "21            1      0        12      46.15                 11.54   44   \n",
       "22            1      0         7      17.55                  4.39   25   \n",
       "\n",
       "    product_2 way Comprehensive Plan  product_Basic Plan  \\\n",
       "21                                 0                   0   \n",
       "22                                 0                   0   \n",
       "\n",
       "    product_Cancellation Plan  product_Rental Vehicle Excess Insurance  ...  \\\n",
       "21                          0                                        0  ...   \n",
       "22                          0                                        0  ...   \n",
       "\n",
       "    destination_HONG KONG  destination_INDONESIA  destination_JAPAN  \\\n",
       "21                      0                      0                  0   \n",
       "22                      0                      0                  0   \n",
       "\n",
       "    destination_MALAYSIA  destination_PHILIPPINES  destination_SINGAPORE  \\\n",
       "21                     0                        0                      1   \n",
       "22                     0                        0                      1   \n",
       "\n",
       "    destination_THAILAND  destination_UNITED STATES  destination_VIET NAM  \\\n",
       "21                     0                          0                     0   \n",
       "22                     0                          0                     0   \n",
       "\n",
       "    destination_otros  \n",
       "21                  0  \n",
       "22                  0  \n",
       "\n",
       "[2 rows x 30 columns]"
      ]
     },
     "execution_count": 56,
     "metadata": {},
     "output_type": "execute_result"
    }
   ],
   "source": [
    "df_gral_dumi.head(2)"
   ]
  },
  {
   "attachments": {},
   "cell_type": "markdown",
   "metadata": {},
   "source": [
    "Ya están codificadas todas las categóricas y la variable respuesta.\n"
   ]
  },
  {
   "cell_type": "code",
   "execution_count": 57,
   "metadata": {},
   "outputs": [],
   "source": [
    "#guardado\n",
    "df_gral_dumi. to_csv ('datos/df_codificado_completo.csv')"
   ]
  },
  {
   "attachments": {},
   "cell_type": "markdown",
   "metadata": {},
   "source": [
    "Se hace una unión con las variables numéricas estandarizadas."
   ]
  },
  {
   "cell_type": "code",
   "execution_count": 58,
   "metadata": {},
   "outputs": [
    {
     "data": {
      "text/html": [
       "<div>\n",
       "<style scoped>\n",
       "    .dataframe tbody tr th:only-of-type {\n",
       "        vertical-align: middle;\n",
       "    }\n",
       "\n",
       "    .dataframe tbody tr th {\n",
       "        vertical-align: top;\n",
       "    }\n",
       "\n",
       "    .dataframe thead th {\n",
       "        text-align: right;\n",
       "    }\n",
       "</style>\n",
       "<table border=\"1\" class=\"dataframe\">\n",
       "  <thead>\n",
       "    <tr style=\"text-align: right;\">\n",
       "      <th></th>\n",
       "      <th>Agency</th>\n",
       "      <th>Agency Type</th>\n",
       "      <th>Distribution Channel</th>\n",
       "      <th>Product Name</th>\n",
       "      <th>Claim</th>\n",
       "      <th>Destination</th>\n",
       "      <th>Duration_Robust</th>\n",
       "      <th>Net Sales_Robust</th>\n",
       "      <th>Commision (in value)_Robust</th>\n",
       "      <th>Age_Robust</th>\n",
       "      <th>...</th>\n",
       "      <th>destination_HONG KONG</th>\n",
       "      <th>destination_INDONESIA</th>\n",
       "      <th>destination_JAPAN</th>\n",
       "      <th>destination_MALAYSIA</th>\n",
       "      <th>destination_PHILIPPINES</th>\n",
       "      <th>destination_SINGAPORE</th>\n",
       "      <th>destination_THAILAND</th>\n",
       "      <th>destination_UNITED STATES</th>\n",
       "      <th>destination_VIET NAM</th>\n",
       "      <th>destination_otros</th>\n",
       "    </tr>\n",
       "  </thead>\n",
       "  <tbody>\n",
       "    <tr>\n",
       "      <th>21</th>\n",
       "      <td>C2B</td>\n",
       "      <td>Airlines</td>\n",
       "      <td>Online</td>\n",
       "      <td>Bronze Plan</td>\n",
       "      <td>No</td>\n",
       "      <td>SINGAPORE</td>\n",
       "      <td>0.583333</td>\n",
       "      <td>-0.275229</td>\n",
       "      <td>0.0</td>\n",
       "      <td>0.909091</td>\n",
       "      <td>...</td>\n",
       "      <td>0.0</td>\n",
       "      <td>0.0</td>\n",
       "      <td>0.0</td>\n",
       "      <td>0.0</td>\n",
       "      <td>0.0</td>\n",
       "      <td>1.0</td>\n",
       "      <td>0.0</td>\n",
       "      <td>0.0</td>\n",
       "      <td>0.0</td>\n",
       "      <td>0.0</td>\n",
       "    </tr>\n",
       "    <tr>\n",
       "      <th>22</th>\n",
       "      <td>C2B</td>\n",
       "      <td>Airlines</td>\n",
       "      <td>Online</td>\n",
       "      <td>Bronze Plan</td>\n",
       "      <td>No</td>\n",
       "      <td>SINGAPORE</td>\n",
       "      <td>0.500000</td>\n",
       "      <td>0.183486</td>\n",
       "      <td>0.0</td>\n",
       "      <td>0.000000</td>\n",
       "      <td>...</td>\n",
       "      <td>0.0</td>\n",
       "      <td>0.0</td>\n",
       "      <td>0.0</td>\n",
       "      <td>0.0</td>\n",
       "      <td>0.0</td>\n",
       "      <td>1.0</td>\n",
       "      <td>0.0</td>\n",
       "      <td>0.0</td>\n",
       "      <td>0.0</td>\n",
       "      <td>0.0</td>\n",
       "    </tr>\n",
       "  </tbody>\n",
       "</table>\n",
       "<p>2 rows × 40 columns</p>\n",
       "</div>"
      ],
      "text/plain": [
       "   Agency Agency Type Distribution Channel Product Name Claim Destination  \\\n",
       "21    C2B    Airlines               Online  Bronze Plan    No   SINGAPORE   \n",
       "22    C2B    Airlines               Online  Bronze Plan    No   SINGAPORE   \n",
       "\n",
       "    Duration_Robust  Net Sales_Robust  Commision (in value)_Robust  \\\n",
       "21         0.583333         -0.275229                          0.0   \n",
       "22         0.500000          0.183486                          0.0   \n",
       "\n",
       "    Age_Robust  ...  destination_HONG KONG  destination_INDONESIA  \\\n",
       "21    0.909091  ...                    0.0                    0.0   \n",
       "22    0.000000  ...                    0.0                    0.0   \n",
       "\n",
       "    destination_JAPAN  destination_MALAYSIA  destination_PHILIPPINES  \\\n",
       "21                0.0                   0.0                      0.0   \n",
       "22                0.0                   0.0                      0.0   \n",
       "\n",
       "    destination_SINGAPORE  destination_THAILAND  destination_UNITED STATES  \\\n",
       "21                    1.0                   0.0                        0.0   \n",
       "22                    1.0                   0.0                        0.0   \n",
       "\n",
       "    destination_VIET NAM  destination_otros  \n",
       "21                   0.0                0.0  \n",
       "22                   0.0                0.0  \n",
       "\n",
       "[2 rows x 40 columns]"
      ]
     },
     "execution_count": 58,
     "metadata": {},
     "output_type": "execute_result"
    }
   ],
   "source": [
    "df_estandarizado_codificado =pd.concat ([df_global_estandarizado, df_gral_dumi], axis=1)\n",
    "df_estandarizado_codificado.head(2)"
   ]
  },
  {
   "attachments": {},
   "cell_type": "markdown",
   "metadata": {},
   "source": [
    "## 3. Balanceo de la variable respuesta:"
   ]
  },
  {
   "cell_type": "code",
   "execution_count": 59,
   "metadata": {},
   "outputs": [
    {
     "data": {
      "image/png": "[encoded data removed]",
      "text/plain": [
       "<Figure size 640x480 with 1 Axes>"
      ]
     },
     "metadata": {},
     "output_type": "display_data"
    }
   ],
   "source": [
    "sns.countplot (x='Claim' , data= df_gral_dumi);"
   ]
  },
  {
   "attachments": {},
   "cell_type": "markdown",
   "metadata": {},
   "source": [
    "La variable respuesta esta muy desequilibrada. Se a balancea haciendo Down Sampling mediante el método SMOTE."
   ]
  },
  {
   "cell_type": "code",
   "execution_count": 60,
   "metadata": {},
   "outputs": [],
   "source": [
    "y = df_gral_dumi['Claim']\n",
    "X = df_gral_dumi.drop('Claim', axis=1)"
   ]
  },
  {
   "cell_type": "code",
   "execution_count": 61,
   "metadata": {},
   "outputs": [],
   "source": [
    "X_train, X_test, y_train, y_test = train_test_split(X, y, train_size=0.7)"
   ]
  },
  {
   "cell_type": "code",
   "execution_count": 62,
   "metadata": {},
   "outputs": [],
   "source": [
    "smote = SMOTE()"
   ]
  },
  {
   "cell_type": "code",
   "execution_count": 63,
   "metadata": {},
   "outputs": [],
   "source": [
    "X_train_res, y_train_res = smote.fit_resample(X_train, y_train)"
   ]
  },
  {
   "cell_type": "code",
   "execution_count": 64,
   "metadata": {},
   "outputs": [
    {
     "data": {
      "text/plain": [
       "0    19324\n",
       "1      271\n",
       "Name: Claim, dtype: int64"
      ]
     },
     "execution_count": 64,
     "metadata": {},
     "output_type": "execute_result"
    }
   ],
   "source": [
    "y_train.value_counts()"
   ]
  },
  {
   "cell_type": "code",
   "execution_count": 65,
   "metadata": {},
   "outputs": [
    {
     "data": {
      "text/plain": [
       "0    19324\n",
       "1    19324\n",
       "Name: Claim, dtype: int64"
      ]
     },
     "execution_count": 65,
     "metadata": {},
     "output_type": "execute_result"
    }
   ],
   "source": [
    "y_train_res.value_counts()"
   ]
  },
  {
   "cell_type": "code",
   "execution_count": 66,
   "metadata": {},
   "outputs": [
    {
     "data": {
      "text/html": [
       "<div>\n",
       "<style scoped>\n",
       "    .dataframe tbody tr th:only-of-type {\n",
       "        vertical-align: middle;\n",
       "    }\n",
       "\n",
       "    .dataframe tbody tr th {\n",
       "        vertical-align: top;\n",
       "    }\n",
       "\n",
       "    .dataframe thead th {\n",
       "        text-align: right;\n",
       "    }\n",
       "</style>\n",
       "<table border=\"1\" class=\"dataframe\">\n",
       "  <thead>\n",
       "    <tr style=\"text-align: right;\">\n",
       "      <th></th>\n",
       "      <th>Agency Type</th>\n",
       "      <th>Duration</th>\n",
       "      <th>Net Sales</th>\n",
       "      <th>Commision (in value)</th>\n",
       "      <th>Age</th>\n",
       "      <th>product_2 way Comprehensive Plan</th>\n",
       "      <th>product_Basic Plan</th>\n",
       "      <th>product_Cancellation Plan</th>\n",
       "      <th>product_Rental Vehicle Excess Insurance</th>\n",
       "      <th>product_otros_productos</th>\n",
       "      <th>...</th>\n",
       "      <th>destination_INDONESIA</th>\n",
       "      <th>destination_JAPAN</th>\n",
       "      <th>destination_MALAYSIA</th>\n",
       "      <th>destination_PHILIPPINES</th>\n",
       "      <th>destination_SINGAPORE</th>\n",
       "      <th>destination_THAILAND</th>\n",
       "      <th>destination_UNITED STATES</th>\n",
       "      <th>destination_VIET NAM</th>\n",
       "      <th>destination_otros</th>\n",
       "      <th>Claim</th>\n",
       "    </tr>\n",
       "  </thead>\n",
       "  <tbody>\n",
       "    <tr>\n",
       "      <th>0</th>\n",
       "      <td>1</td>\n",
       "      <td>8</td>\n",
       "      <td>37.5</td>\n",
       "      <td>9.38</td>\n",
       "      <td>28</td>\n",
       "      <td>0</td>\n",
       "      <td>0</td>\n",
       "      <td>0</td>\n",
       "      <td>0</td>\n",
       "      <td>1</td>\n",
       "      <td>...</td>\n",
       "      <td>0</td>\n",
       "      <td>0</td>\n",
       "      <td>0</td>\n",
       "      <td>0</td>\n",
       "      <td>1</td>\n",
       "      <td>0</td>\n",
       "      <td>0</td>\n",
       "      <td>0</td>\n",
       "      <td>0</td>\n",
       "      <td>0</td>\n",
       "    </tr>\n",
       "    <tr>\n",
       "      <th>1</th>\n",
       "      <td>1</td>\n",
       "      <td>9</td>\n",
       "      <td>26.0</td>\n",
       "      <td>9.10</td>\n",
       "      <td>51</td>\n",
       "      <td>0</td>\n",
       "      <td>1</td>\n",
       "      <td>0</td>\n",
       "      <td>0</td>\n",
       "      <td>0</td>\n",
       "      <td>...</td>\n",
       "      <td>0</td>\n",
       "      <td>0</td>\n",
       "      <td>0</td>\n",
       "      <td>0</td>\n",
       "      <td>0</td>\n",
       "      <td>0</td>\n",
       "      <td>0</td>\n",
       "      <td>0</td>\n",
       "      <td>1</td>\n",
       "      <td>0</td>\n",
       "    </tr>\n",
       "    <tr>\n",
       "      <th>2</th>\n",
       "      <td>1</td>\n",
       "      <td>13</td>\n",
       "      <td>26.0</td>\n",
       "      <td>9.10</td>\n",
       "      <td>42</td>\n",
       "      <td>0</td>\n",
       "      <td>1</td>\n",
       "      <td>0</td>\n",
       "      <td>0</td>\n",
       "      <td>0</td>\n",
       "      <td>...</td>\n",
       "      <td>0</td>\n",
       "      <td>0</td>\n",
       "      <td>0</td>\n",
       "      <td>0</td>\n",
       "      <td>0</td>\n",
       "      <td>0</td>\n",
       "      <td>0</td>\n",
       "      <td>0</td>\n",
       "      <td>0</td>\n",
       "      <td>0</td>\n",
       "    </tr>\n",
       "    <tr>\n",
       "      <th>3</th>\n",
       "      <td>1</td>\n",
       "      <td>19</td>\n",
       "      <td>17.0</td>\n",
       "      <td>4.25</td>\n",
       "      <td>35</td>\n",
       "      <td>0</td>\n",
       "      <td>0</td>\n",
       "      <td>0</td>\n",
       "      <td>0</td>\n",
       "      <td>1</td>\n",
       "      <td>...</td>\n",
       "      <td>0</td>\n",
       "      <td>0</td>\n",
       "      <td>0</td>\n",
       "      <td>0</td>\n",
       "      <td>1</td>\n",
       "      <td>0</td>\n",
       "      <td>0</td>\n",
       "      <td>0</td>\n",
       "      <td>0</td>\n",
       "      <td>1</td>\n",
       "    </tr>\n",
       "    <tr>\n",
       "      <th>4</th>\n",
       "      <td>0</td>\n",
       "      <td>6</td>\n",
       "      <td>49.5</td>\n",
       "      <td>29.70</td>\n",
       "      <td>48</td>\n",
       "      <td>0</td>\n",
       "      <td>0</td>\n",
       "      <td>0</td>\n",
       "      <td>1</td>\n",
       "      <td>0</td>\n",
       "      <td>...</td>\n",
       "      <td>0</td>\n",
       "      <td>0</td>\n",
       "      <td>1</td>\n",
       "      <td>0</td>\n",
       "      <td>0</td>\n",
       "      <td>0</td>\n",
       "      <td>0</td>\n",
       "      <td>0</td>\n",
       "      <td>0</td>\n",
       "      <td>0</td>\n",
       "    </tr>\n",
       "  </tbody>\n",
       "</table>\n",
       "<p>5 rows × 30 columns</p>\n",
       "</div>"
      ],
      "text/plain": [
       "   Agency Type  Duration  Net Sales  Commision (in value)  Age  \\\n",
       "0            1         8       37.5                  9.38   28   \n",
       "1            1         9       26.0                  9.10   51   \n",
       "2            1        13       26.0                  9.10   42   \n",
       "3            1        19       17.0                  4.25   35   \n",
       "4            0         6       49.5                 29.70   48   \n",
       "\n",
       "   product_2 way Comprehensive Plan  product_Basic Plan  \\\n",
       "0                                 0                   0   \n",
       "1                                 0                   1   \n",
       "2                                 0                   1   \n",
       "3                                 0                   0   \n",
       "4                                 0                   0   \n",
       "\n",
       "   product_Cancellation Plan  product_Rental Vehicle Excess Insurance  \\\n",
       "0                          0                                        0   \n",
       "1                          0                                        0   \n",
       "2                          0                                        0   \n",
       "3                          0                                        0   \n",
       "4                          0                                        1   \n",
       "\n",
       "   product_otros_productos  ...  destination_INDONESIA  destination_JAPAN  \\\n",
       "0                        1  ...                      0                  0   \n",
       "1                        0  ...                      0                  0   \n",
       "2                        0  ...                      0                  0   \n",
       "3                        1  ...                      0                  0   \n",
       "4                        0  ...                      0                  0   \n",
       "\n",
       "   destination_MALAYSIA  destination_PHILIPPINES  destination_SINGAPORE  \\\n",
       "0                     0                        0                      1   \n",
       "1                     0                        0                      0   \n",
       "2                     0                        0                      0   \n",
       "3                     0                        0                      1   \n",
       "4                     1                        0                      0   \n",
       "\n",
       "   destination_THAILAND  destination_UNITED STATES  destination_VIET NAM  \\\n",
       "0                     0                          0                     0   \n",
       "1                     0                          0                     0   \n",
       "2                     0                          0                     0   \n",
       "3                     0                          0                     0   \n",
       "4                     0                          0                     0   \n",
       "\n",
       "   destination_otros  Claim  \n",
       "0                  0      0  \n",
       "1                  1      0  \n",
       "2                  0      0  \n",
       "3                  0      1  \n",
       "4                  0      0  \n",
       "\n",
       "[5 rows x 30 columns]"
      ]
     },
     "execution_count": 66,
     "metadata": {},
     "output_type": "execute_result"
    }
   ],
   "source": [
    "balanceado = pd.concat([X_train_res, y_train_res], axis = 1)\n",
    "balanceado.head()"
   ]
  },
  {
   "attachments": {},
   "cell_type": "markdown",
   "metadata": {},
   "source": [
    "Comprobación y guardado."
   ]
  },
  {
   "cell_type": "code",
   "execution_count": 67,
   "metadata": {},
   "outputs": [
    {
     "data": {
      "text/plain": [
       "0    19324\n",
       "1    19324\n",
       "Name: Claim, dtype: int64"
      ]
     },
     "execution_count": 67,
     "metadata": {},
     "output_type": "execute_result"
    }
   ],
   "source": [
    "balanceado['Claim'].value_counts()"
   ]
  },
  {
   "cell_type": "code",
   "execution_count": 68,
   "metadata": {},
   "outputs": [],
   "source": [
    "balanceado.to_csv('datos/df_codificado_balanceado.csv')"
   ]
  },
  {
   "attachments": {},
   "cell_type": "markdown",
   "metadata": {},
   "source": []
  }
 ],
 "metadata": {
  "kernelspec": {
   "display_name": "Python 3",
   "language": "python",
   "name": "python3"
  },
  "language_info": {
   "codemirror_mode": {
    "name": "ipython",
    "version": 3
   },
   "file_extension": ".py",
   "mimetype": "text/x-python",
   "name": "python",
   "nbconvert_exporter": "python",
   "pygments_lexer": "ipython3",
   "version": "3.10.10"
  },
  "orig_nbformat": 4,
  "vscode": {
   "interpreter": {
    "hash": "386358fdc1fd0de6900d07d882f42fc953f23690ede61ed9b4d9d7c82a6402d7"
   }
  }
 },
 "nbformat": 4,
 "nbformat_minor": 2
}
